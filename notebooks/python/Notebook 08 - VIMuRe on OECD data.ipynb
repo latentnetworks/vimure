{
 "cells": [
  {
   "attachments": {},
   "cell_type": "markdown",
   "metadata": {},
   "source": [
    "**OBJECTIVE:** Run VIMuRe on OECD data\n",
    "\n",
    "**AUTHOR:** [@jonjoncardoso](https://jonjoncardoso.github.io)\n",
    "\n",
    "**DATE:** 29/06/2023 (during INSNA Sunbelt 2023)"
   ]
  },
  {
   "attachments": {},
   "cell_type": "markdown",
   "metadata": {},
   "source": [
    "**Import libraries**"
   ]
  },
  {
   "cell_type": "code",
   "execution_count": 1,
   "metadata": {},
   "outputs": [],
   "source": [
    "import numpy as np\n",
    "import pandas as pd\n",
    "import vimure as vm"
   ]
  },
  {
   "attachments": {},
   "cell_type": "markdown",
   "metadata": {},
   "source": [
    "**Read the edgelist**"
   ]
  },
  {
   "cell_type": "code",
   "execution_count": 2,
   "metadata": {},
   "outputs": [],
   "source": [
    "# Set the folder where the data is stored\n",
    "DATA_FOLDER = '../../data/OECD'\n",
    "\n",
    "edgelist = pd.read_csv(f'{DATA_FOLDER}/edgelist-OECD-WTO_BATIS_BPM6_April2023_bulk.csv')"
   ]
  },
  {
   "attachments": {},
   "cell_type": "markdown",
   "metadata": {},
   "source": [
    "# 1. Log-transform the `weight` first"
   ]
  },
  {
   "attachments": {},
   "cell_type": "markdown",
   "metadata": {},
   "source": [
    "Let's first check the data distribution of the OECD `weight`:"
   ]
  },
  {
   "cell_type": "code",
   "execution_count": 3,
   "metadata": {},
   "outputs": [
    {
     "data": {
      "text/plain": [
       "<Axes: >"
      ]
     },
     "execution_count": 3,
     "metadata": {},
     "output_type": "execute_result"
    },
    {
     "data": {
      "image/png": "[encoded data removed]",
      "text/plain": [
       "<Figure size 640x480 with 1 Axes>"
      ]
     },
     "metadata": {},
     "output_type": "display_data"
    }
   ],
   "source": [
    "edgelist['weight'].hist()"
   ]
  },
  {
   "cell_type": "code",
   "execution_count": 4,
   "metadata": {},
   "outputs": [
    {
     "data": {
      "text/plain": [
       "count    1.757652e+07\n",
       "mean     1.788848e+01\n",
       "std      3.898445e+02\n",
       "min      0.000000e+00\n",
       "25%      0.000000e+00\n",
       "50%      2.000000e-03\n",
       "75%      2.000000e-01\n",
       "max      1.983430e+05\n",
       "Name: weight, dtype: float64"
      ]
     },
     "execution_count": 4,
     "metadata": {},
     "output_type": "execute_result"
    }
   ],
   "source": [
    "edgelist['weight'].describe()"
   ]
  },
  {
   "attachments": {},
   "cell_type": "markdown",
   "metadata": {},
   "source": [
    "Let's log-transform the `weight` and observe the distribution:"
   ]
  },
  {
   "cell_type": "code",
   "execution_count": 5,
   "metadata": {},
   "outputs": [
    {
     "data": {
      "text/plain": [
       "<Axes: >"
      ]
     },
     "execution_count": 5,
     "metadata": {},
     "output_type": "execute_result"
    },
    {
     "data": {
      "image/png": "[encoded data removed]",
      "text/plain": [
       "<Figure size 640x480 with 1 Axes>"
      ]
     },
     "metadata": {},
     "output_type": "display_data"
    }
   ],
   "source": [
    "edgelist.assign(log_weight=lambda x: [-np.log10(weight/1e5) if weight > 0 else 0 for weight in x['weight']]).log_weight.hist()"
   ]
  },
  {
   "attachments": {},
   "cell_type": "markdown",
   "metadata": {},
   "source": [
    "Let's make this change permanent in this notebook:"
   ]
  },
  {
   "cell_type": "code",
   "execution_count": 6,
   "metadata": {},
   "outputs": [],
   "source": [
    "edgelist['weight'] = edgelist['weight'].apply(lambda weight: -np.log10(weight/1e5) if weight > 0 else 0)"
   ]
  },
  {
   "cell_type": "code",
   "execution_count": 7,
   "metadata": {},
   "outputs": [
    {
     "data": {
      "text/html": [
       "<div>\n",
       "<style scoped>\n",
       "    .dataframe tbody tr th:only-of-type {\n",
       "        vertical-align: middle;\n",
       "    }\n",
       "\n",
       "    .dataframe tbody tr th {\n",
       "        vertical-align: top;\n",
       "    }\n",
       "\n",
       "    .dataframe thead th {\n",
       "        text-align: right;\n",
       "    }\n",
       "</style>\n",
       "<table border=\"1\" class=\"dataframe\">\n",
       "  <thead>\n",
       "    <tr style=\"text-align: right;\">\n",
       "      <th></th>\n",
       "      <th>ego</th>\n",
       "      <th>alter</th>\n",
       "      <th>reporter</th>\n",
       "      <th>tie_type</th>\n",
       "      <th>layer</th>\n",
       "      <th>weight</th>\n",
       "    </tr>\n",
       "  </thead>\n",
       "  <tbody>\n",
       "    <tr>\n",
       "      <th>0</th>\n",
       "      <td>ABW</td>\n",
       "      <td>AFG</td>\n",
       "      <td>ABW</td>\n",
       "      <td>EXP</td>\n",
       "      <td>2005-S</td>\n",
       "      <td>5.712494</td>\n",
       "    </tr>\n",
       "    <tr>\n",
       "      <th>1</th>\n",
       "      <td>ABW</td>\n",
       "      <td>AFG</td>\n",
       "      <td>ABW</td>\n",
       "      <td>EXP</td>\n",
       "      <td>2006-S</td>\n",
       "      <td>5.705772</td>\n",
       "    </tr>\n",
       "    <tr>\n",
       "      <th>2</th>\n",
       "      <td>ABW</td>\n",
       "      <td>AFG</td>\n",
       "      <td>ABW</td>\n",
       "      <td>EXP</td>\n",
       "      <td>2007-S</td>\n",
       "      <td>5.636999</td>\n",
       "    </tr>\n",
       "    <tr>\n",
       "      <th>3</th>\n",
       "      <td>ABW</td>\n",
       "      <td>AFG</td>\n",
       "      <td>ABW</td>\n",
       "      <td>EXP</td>\n",
       "      <td>2008-S</td>\n",
       "      <td>5.578023</td>\n",
       "    </tr>\n",
       "    <tr>\n",
       "      <th>4</th>\n",
       "      <td>ABW</td>\n",
       "      <td>AFG</td>\n",
       "      <td>ABW</td>\n",
       "      <td>EXP</td>\n",
       "      <td>2009-S</td>\n",
       "      <td>5.552445</td>\n",
       "    </tr>\n",
       "  </tbody>\n",
       "</table>\n",
       "</div>"
      ],
      "text/plain": [
       "   ego alter reporter tie_type   layer    weight\n",
       "0  ABW   AFG      ABW      EXP  2005-S  5.712494\n",
       "1  ABW   AFG      ABW      EXP  2006-S  5.705772\n",
       "2  ABW   AFG      ABW      EXP  2007-S  5.636999\n",
       "3  ABW   AFG      ABW      EXP  2008-S  5.578023\n",
       "4  ABW   AFG      ABW      EXP  2009-S  5.552445"
      ]
     },
     "execution_count": 7,
     "metadata": {},
     "output_type": "execute_result"
    }
   ],
   "source": [
    "edgelist.head()"
   ]
  },
  {
   "attachments": {},
   "cell_type": "markdown",
   "metadata": {},
   "source": [
    "# 2. Run VIMuRe"
   ]
  },
  {
   "attachments": {},
   "cell_type": "markdown",
   "metadata": {},
   "source": [
    "## 2.1 Small sample: 2021"
   ]
  },
  {
   "cell_type": "code",
   "execution_count": 8,
   "metadata": {},
   "outputs": [
    {
     "data": {
      "text/plain": [
       "2021-S     75735\n",
       "2021-SC    74924\n",
       "2021-SD    73674\n",
       "2021-SJ    70956\n",
       "2021-SI    70292\n",
       "2021-SF    61423\n",
       "2021-SL    60337\n",
       "2021-SG    59902\n",
       "2021-SK    48018\n",
       "2021-SE    44129\n",
       "2021-SH    43394\n",
       "2021-SB    42775\n",
       "2021-SA    19579\n",
       "Name: layer, dtype: int64"
      ]
     },
     "execution_count": 8,
     "metadata": {},
     "output_type": "execute_result"
    }
   ],
   "source": [
    "sample_edgelist = edgelist[edgelist['layer'].apply(lambda x: '2021' in x)]\n",
    "sample_edgelist = sample_edgelist[sample_edgelist['weight'] > 0]\n",
    "sample_edgelist['layer'].value_counts()"
   ]
  },
  {
   "cell_type": "code",
   "execution_count": 9,
   "metadata": {},
   "outputs": [
    {
     "name": "stderr",
     "output_type": "stream",
     "text": [
      "c:\\Users\\Jon\\miniconda3\\envs\\venv-vimure\\lib\\site-packages\\vimure\\_io.py:405: UserWarning: The set of nodes was not informed, using ego and alter columns to infer nodes.\n",
      "  warnings.warn(msg, UserWarning)\n",
      "c:\\Users\\Jon\\miniconda3\\envs\\venv-vimure\\lib\\site-packages\\vimure\\_io.py:431: UserWarning: The set of reporters was not informed, assuming set(reporters) = set(nodes) and N = M.\n",
      "  warnings.warn(msg, UserWarning)\n"
     ]
    },
    {
     "name": "stderr",
     "output_type": "stream",
     "text": [
      "c:\\Users\\Jon\\miniconda3\\envs\\venv-vimure\\lib\\site-packages\\vimure\\_io.py:220: UserWarning: Reporters Mask was not informed (parameter R). Parser will build it from reporter column, assuming a reporter can only report their own ties.\n",
      "  warnings.warn(msg, UserWarning)\n",
      "c:\\Users\\Jon\\miniconda3\\envs\\venv-vimure\\lib\\site-packages\\vimure\\_io.py:291: UserWarning: Parameter K was None. Defaulting to: 2\n",
      "  warnings.warn(msg, UserWarning)\n"
     ]
    }
   ],
   "source": [
    "model = vm.model.VimureModel().fit(sample_edgelist, K=11)"
   ]
  },
  {
   "cell_type": "code",
   "execution_count": null,
   "metadata": {},
   "outputs": [],
   "source": [
    "import pickle\n",
    "\n",
    "pickle.dump(model, open(f'{DATA_FOLDER}/model-OECD-WTO_BATIS_BPM6_April2023_bulk.pkl', 'wb'))"
   ]
  }
 ],
 "metadata": {
  "kernelspec": {
   "display_name": "venv-vimure",
   "language": "python",
   "name": "python3"
  },
  "language_info": {
   "codemirror_mode": {
    "name": "ipython",
    "version": 3
   },
   "file_extension": ".py",
   "mimetype": "text/x-python",
   "name": "python",
   "nbconvert_exporter": "python",
   "pygments_lexer": "ipython3",
   "version": "3.10.8"
  },
  "orig_nbformat": 4
 },
 "nbformat": 4,
 "nbformat_minor": 2
}
