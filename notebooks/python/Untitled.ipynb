{
 "cells": [
  {
   "cell_type": "code",
   "execution_count": 38,
   "id": "1749655d-9409-4c07-adb7-7e043a3ba4a1",
   "metadata": {},
   "outputs": [
    {
     "name": "stdout",
     "output_type": "stream",
     "text": [
      "The autoreload extension is already loaded. To reload it, use:\n",
      "  %reload_ext autoreload\n"
     ]
    }
   ],
   "source": [
    "%load_ext autoreload\n",
    "%autoreload 2"
   ]
  },
  {
   "cell_type": "code",
   "execution_count": 11,
   "id": "a91fe4aa-03a1-4297-a82d-00f34bc962cf",
   "metadata": {},
   "outputs": [],
   "source": [
    "village = \"vil55\"\n",
    "layer = \"visit\""
   ]
  },
  {
   "cell_type": "code",
   "execution_count": 75,
   "id": "37647561-9d8c-4312-871e-58f4631f0933",
   "metadata": {},
   "outputs": [],
   "source": [
    "import os\n",
    "\n",
    "import numpy as np\n",
    "import pandas as pd\n",
    "import networkx as nx\n",
    "import matplotlib.pyplot as plt\n",
    "import warnings\n",
    "\n",
    "import vimure as vm"
   ]
  },
  {
   "cell_type": "code",
   "execution_count": 85,
   "id": "b5233bae-880a-41ac-bae5-c91ede033e20",
   "metadata": {},
   "outputs": [
    {
     "data": {
      "text/html": [
       "<div>\n",
       "<style scoped>\n",
       "    .dataframe tbody tr th:only-of-type {\n",
       "        vertical-align: middle;\n",
       "    }\n",
       "\n",
       "    .dataframe tbody tr th {\n",
       "        vertical-align: top;\n",
       "    }\n",
       "\n",
       "    .dataframe thead th {\n",
       "        text-align: right;\n",
       "    }\n",
       "</style>\n",
       "<table border=\"1\" class=\"dataframe\">\n",
       "  <thead>\n",
       "    <tr style=\"text-align: right;\">\n",
       "      <th></th>\n",
       "      <th>respondent</th>\n",
       "      <th>i</th>\n",
       "      <th>j</th>\n",
       "      <th>type</th>\n",
       "      <th>weight</th>\n",
       "      <th>layer</th>\n",
       "    </tr>\n",
       "  </thead>\n",
       "  <tbody>\n",
       "    <tr>\n",
       "      <th>0</th>\n",
       "      <td>5500201</td>\n",
       "      <td>5500201</td>\n",
       "      <td>5500302</td>\n",
       "      <td>borrowmoney</td>\n",
       "      <td>1</td>\n",
       "      <td>money</td>\n",
       "    </tr>\n",
       "    <tr>\n",
       "      <th>1</th>\n",
       "      <td>5500202</td>\n",
       "      <td>5500202</td>\n",
       "      <td>5503908</td>\n",
       "      <td>borrowmoney</td>\n",
       "      <td>1</td>\n",
       "      <td>money</td>\n",
       "    </tr>\n",
       "    <tr>\n",
       "      <th>2</th>\n",
       "      <td>5500301</td>\n",
       "      <td>5500301</td>\n",
       "      <td>5521701</td>\n",
       "      <td>borrowmoney</td>\n",
       "      <td>1</td>\n",
       "      <td>money</td>\n",
       "    </tr>\n",
       "    <tr>\n",
       "      <th>3</th>\n",
       "      <td>5500302</td>\n",
       "      <td>5500302</td>\n",
       "      <td>5500402</td>\n",
       "      <td>borrowmoney</td>\n",
       "      <td>1</td>\n",
       "      <td>money</td>\n",
       "    </tr>\n",
       "    <tr>\n",
       "      <th>4</th>\n",
       "      <td>5500303</td>\n",
       "      <td>5500303</td>\n",
       "      <td>5501511</td>\n",
       "      <td>borrowmoney</td>\n",
       "      <td>1</td>\n",
       "      <td>money</td>\n",
       "    </tr>\n",
       "  </tbody>\n",
       "</table>\n",
       "</div>"
      ],
      "text/plain": [
       "   respondent        i        j         type  weight  layer\n",
       "0     5500201  5500201  5500302  borrowmoney       1  money\n",
       "1     5500202  5500202  5503908  borrowmoney       1  money\n",
       "2     5500301  5500301  5521701  borrowmoney       1  money\n",
       "3     5500302  5500302  5500402  borrowmoney       1  money\n",
       "4     5500303  5500303  5501511  borrowmoney       1  money"
      ]
     },
     "execution_count": 85,
     "metadata": {},
     "output_type": "execute_result"
    }
   ],
   "source": [
    "DATA_INPUT_FOLDER = \"../../data/input/india_microfinance/formatted/\"  # Folder contains structured CSV files\n",
    "\n",
    "FILE_PATTERN_EDGES = \"%s_edges.csv\"\n",
    "FILE_PATTERN_META = \"%s_meta.csv\"\n",
    "\n",
    "ties_layer_mapping={\n",
    "    \"borrowmoney\": \"money\",\n",
    "    \"receivemoney\": \"money\",\n",
    "    \"receiveadvice\": \"advice\",\n",
    "    \"helpdecision\": \"advice\",\n",
    "    \"keroricego\": \"kerorice\",\n",
    "    \"keroricecome\": \"kerorice\",\n",
    "    \"visitgo\": \"visit\",\n",
    "    \"visitcome\": \"visit\",\n",
    "}\n",
    "    \n",
    "df = pd.read_csv(os.path.join(DATA_INPUT_FOLDER, FILE_PATTERN_EDGES % village))\n",
    "df[\"layer\"] = df[\"type\"].map(ties_layer_mapping)\n",
    "df.head()"
   ]
  },
  {
   "cell_type": "code",
   "execution_count": 87,
   "id": "81fcadd5-0c08-44b6-a07f-3c6079be5413",
   "metadata": {},
   "outputs": [
    {
     "ename": "NameError",
     "evalue": "name 'DF' is not defined",
     "output_type": "error",
     "traceback": [
      "\u001b[0;31m---------------------------------------------------------------------------\u001b[0m",
      "\u001b[0;31mNameError\u001b[0m                                 Traceback (most recent call last)",
      "Input \u001b[0;32mIn [87]\u001b[0m, in \u001b[0;36m<cell line: 2>\u001b[0;34m()\u001b[0m\n\u001b[1;32m      1\u001b[0m df \u001b[38;5;241m=\u001b[39m df\u001b[38;5;241m.\u001b[39mrename(columns \u001b[38;5;241m=\u001b[39m {\u001b[38;5;124m\"\u001b[39m\u001b[38;5;124mi\u001b[39m\u001b[38;5;124m\"\u001b[39m: \u001b[38;5;124m\"\u001b[39m\u001b[38;5;124mEgo\u001b[39m\u001b[38;5;124m\"\u001b[39m, \u001b[38;5;124m\"\u001b[39m\u001b[38;5;124mj\u001b[39m\u001b[38;5;124m\"\u001b[39m:\u001b[38;5;124m\"\u001b[39m\u001b[38;5;124mAlter\u001b[39m\u001b[38;5;124m\"\u001b[39m})\n\u001b[0;32m----> 2\u001b[0m \u001b[43mDF\u001b[49m\n",
      "\u001b[0;31mNameError\u001b[0m: name 'DF' is not defined"
     ]
    }
   ],
   "source": [
    "df = df.rename(columns = {\"i\": \"Ego\", \"j\":\"Alter\"})\n",
    "DF"
   ]
  },
  {
   "cell_type": "code",
   "execution_count": 83,
   "id": "6d59b989-dc57-4c03-9dc1-7666644d0944",
   "metadata": {},
   "outputs": [
    {
     "name": "stderr",
     "output_type": "stream",
     "text": [
      "/home/gabriela-borges/Git/vimure/Python/venv/lib/python3.8/site-packages/vimure/io.py:181: UserWarning: The set of nodes was not informed, using Ego and Alter columns to infer nodes.\n",
      "/home/gabriela-borges/Git/vimure/Python/venv/lib/python3.8/site-packages/vimure/io.py:194: UserWarning: The set of reporters was not informed, assuming set(reporters) = set(nodes) and N = M.\n",
      "/home/gabriela-borges/Git/vimure/Python/venv/lib/python3.8/site-packages/vimure/io.py:224: UserWarning: Reporters Mask was not informed (parameter R). Parser will build it from reporter column, assuming a reporter can only report their own ties.\n",
      "/home/gabriela-borges/Git/vimure/Python/venv/lib/python3.8/site-packages/vimure/io.py:291: UserWarning: Parameter K was None. Defaulting to: 2\n"
     ]
    },
    {
     "data": {
      "text/plain": [
       "RealNetwork (N=575, M=575, L=8, K=2, seed=10)"
      ]
     },
     "execution_count": 83,
     "metadata": {},
     "output_type": "execute_result"
    }
   ],
   "source": [
    "vm.io.parse_graph_from_edgelist(df)"
   ]
  },
  {
   "cell_type": "code",
   "execution_count": 64,
   "id": "3ea13316-5c10-4805-827e-7cd40421871c",
   "metadata": {},
   "outputs": [
    {
     "data": {
      "text/plain": [
       "True"
      ]
     },
     "execution_count": 64,
     "metadata": {},
     "output_type": "execute_result"
    }
   ],
   "source": []
  },
  {
   "cell_type": "code",
   "execution_count": 50,
   "id": "d757595e-b1ee-44d5-8015-26f2dba83c03",
   "metadata": {},
   "outputs": [
    {
     "data": {
      "text/plain": [
       "False"
      ]
     },
     "execution_count": 50,
     "metadata": {},
     "output_type": "execute_result"
    }
   ],
   "source": [
    "[\"Ego\", \"Alter\"] in diff_columns"
   ]
  }
 ],
 "metadata": {
  "kernelspec": {
   "display_name": "Python 3 (ipykernel)",
   "language": "python",
   "name": "python3"
  },
  "language_info": {
   "codemirror_mode": {
    "name": "ipython",
    "version": 3
   },
   "file_extension": ".py",
   "mimetype": "text/x-python",
   "name": "python",
   "nbconvert_exporter": "python",
   "pygments_lexer": "ipython3",
   "version": "3.8.8"
  }
 },
 "nbformat": 4,
 "nbformat_minor": 5
}
